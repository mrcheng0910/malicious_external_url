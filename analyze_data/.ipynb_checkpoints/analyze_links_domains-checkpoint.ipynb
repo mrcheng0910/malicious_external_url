{
 "cells": [
  {
   "cell_type": "markdown",
   "metadata": {},
   "source": [
    "## 分别分析赌博和色情网站的内外链特征"
   ]
  },
  {
   "cell_type": "markdown",
   "metadata": {},
   "source": [
    "* 分析内外链的比较情况（使用百分比更加合适）,但是百分比在进行两类非法域名比较的时候，会丢失一些重要信息\n",
    "* 分析该类型非法网站外链中域名和实际域名的数量分布\n",
    "* 分析该类型非法网站的外链顶级域名分布"
   ]
  },
  {
   "cell_type": "code",
   "execution_count": 112,
   "metadata": {
    "collapsed": true
   },
   "outputs": [],
   "source": [
    "# encoding:utf-8\n",
    "from collections import Counter,defaultdict\n",
    "import tldextract"
   ]
  },
  {
   "cell_type": "code",
   "execution_count": 113,
   "metadata": {
    "collapsed": true
   },
   "outputs": [],
   "source": [
    "% matplotlib inline\n",
    "import matplotlib.pyplot as plt\n",
    "import numpy as np\n",
    "from numpy import  median\n",
    "from scipy.stats import mode"
   ]
  },
  {
   "cell_type": "code",
   "execution_count": 114,
   "metadata": {
    "collapsed": true
   },
   "outputs": [],
   "source": [
    "# 读取数据\n",
    "gam_sites_data = np.load('gam_dm_info.npy')\n",
    "por_sites_data = np.load('por_dm_info.npy')"
   ]
  },
  {
   "cell_type": "code",
   "execution_count": 115,
   "metadata": {
    "collapsed": true
   },
   "outputs": [],
   "source": [
    "def extract_links_domains(sites_data):\n",
    "    \"\"\"提取出链接和域名\n",
    "    \"\"\"\n",
    "    ex_links_per = []  # 外链百分比\n",
    "    ex_links_domains = []  # count external domains in the external links\n",
    "    ex_domains = []   #  count external domains in the webpage \n",
    "    in_links_per = []   # 内链百分比\n",
    "    ex_links_cnt = []     # 外链数量\n",
    "    in_links_cnt = []   # 内链数量\n",
    "\n",
    "    for site_data in sites_data:\n",
    "        \n",
    "        if  site_data:\n",
    "            \n",
    "            cur_ex_links_cnt = len(site_data['outer_urls'])   # 外链数量\n",
    "            cur_in_links_cnt = len(site_data['inter_urls'])   # 内链数量\n",
    "            cur_total_links = float(cur_ex_links_cnt + cur_in_links_cnt)  # 总链接数量\n",
    "\n",
    "            ex_links_cnt.append(cur_ex_links_cnt) \n",
    "            in_links_cnt.append(cur_in_links_cnt) \n",
    "\n",
    "            if not cur_total_links:   # 去除链接数为0的异常情况\n",
    "                continue\n",
    "\n",
    "            cur_ex_links_per = cur_ex_links_cnt / cur_total_links  #外链百分比\n",
    "            cur_in_links_per = cur_in_links_cnt / cur_total_links  # 内链百分比\n",
    "            \n",
    "            ex_links_per.append(cur_ex_links_per)  # 外链百分比\n",
    "            in_links_per.append(cur_in_links_per)   # 内链百分比\n",
    "             \n",
    "                #外链域名数量\n",
    "            domains = set()\n",
    "            for url in site_data['outer_urls']:\n",
    "                ext = tldextract.extract(url)\n",
    "                domains.add(ext.domain+'.'+ext.suffix)\n",
    "\n",
    "            ex_links_domains.append(len(domains))  # 外链域名数量\n",
    "            ex_domains.append(len(site_data['outer_domains']))  # 网页实际外链数量\n",
    "            \n",
    "#             if len(site_data['outer_domains'])-len(domains)==4:\n",
    "#                 print site_data['domain']\n",
    "      \n",
    "    return ex_links_per, in_links_per, ex_links_cnt, in_links_cnt, ex_links_domains,ex_domains"
   ]
  },
  {
   "cell_type": "markdown",
   "metadata": {},
   "source": [
    "### 两类非法域名的内外链比较"
   ]
  },
  {
   "cell_type": "code",
   "execution_count": 124,
   "metadata": {
    "scrolled": false
   },
   "outputs": [
    {
     "data": {
      "image/png": "[encoded data removed]",
      "text/plain": [
       "<matplotlib.figure.Figure at 0x2fcf2828>"
      ]
     },
     "metadata": {},
     "output_type": "display_data"
    }
   ],
   "source": [
    "gam_ex_links_per, gam_in_links_per, gam_ex_links_cnt, gam_in_links_cnt, gam_ex_links_domains,gam_ex_domains = extract_links_domains(gam_sites_data)\n",
    "\n",
    "y_gam_external = np.array(gam_ex_links_per)\n",
    "y_gam_internal = np.array(gam_in_links_per)\n",
    "\n",
    "por_ex_links_per, por_in_links_per, por_ex_links_cnt, por_in_links_cnt, por_ex_links_domains,por_ex_domains = extract_links_domains(por_sites_data)\n",
    "y_por_external = np.array(por_ex_links_per)\n",
    "y_por_internal = np.array(por_in_links_per)\n",
    "\n",
    "fig, (ax0, ax1) = plt.subplots(ncols=2, figsize=(9, 4))\n",
    "\n",
    "\n",
    "ax0.hist(y_gam_external,normed=True, histtype='step',cumulative=True,label='External Links',linestyle='--');\n",
    "ax0.hist(y_gam_internal,normed=True, histtype='step',cumulative=True,label='Internal Links');\n",
    "ax0.set_xlabel('Percentage of external and internal links')\n",
    "ax0.set_ylabel('The cumulative percentage')\n",
    "ax0.legend(loc='upper left');\n",
    "\n",
    "\n",
    "ax1.hist(y_por_external,normed=True, histtype='step',cumulative=True,label='External Links',linestyle='--');\n",
    "ax1.hist(y_por_internal,normed=True, histtype='step',cumulative=True,label='Internal Links');\n",
    "ax1.set_xlabel('Percentage of external  and internal links')\n",
    "ax1.set_ylabel('The cumulative percentage')\n",
    "ax1.legend(loc='center left');"
   ]
  },
  {
   "cell_type": "markdown",
   "metadata": {},
   "source": [
    "图：赌博网和非法网站内外链的比较情况\n",
    "* 赌博网站的内外链分布比较相似，曲线平缓；\n",
    "* 而色情网站外链数量集中在0.2左右。"
   ]
  },
  {
   "cell_type": "markdown",
   "metadata": {},
   "source": [
    "### 计算两种非法域名的量化指标，非百分比"
   ]
  },
  {
   "cell_type": "code",
   "execution_count": 117,
   "metadata": {
    "collapsed": true
   },
   "outputs": [],
   "source": [
    "def compute_feature_data(base_cnt):\n",
    "    mean_cnt = round(mean(base_cnt),2)\n",
    "    max_cnt = max(base_cnt)\n",
    "    min_cnt = min(base_cnt)\n",
    "    std_cnt = round(std(base_cnt, ddof=1),2)\n",
    "    var_cnt = round(var(base_cnt,ddof=1),2)\n",
    "    median_cnt = median(base_cnt)\n",
    "    mode_cnt = mode(base_cnt)\n",
    "    \n",
    "    return mean_cnt,max_cnt,min_cnt,std_cnt,var_cnt,median_cnt,mode_cnt"
   ]
  },
  {
   "cell_type": "code",
   "execution_count": 118,
   "metadata": {},
   "outputs": [
    {
     "data": {
      "text/html": [
       "<table>\n",
       "<tbody>\n",
       "<tr><td>features</td><td>gamble internal links</td><td>gamble external links</td><td>gamble external domains</td><td>porno internal links</td><td>porno external links</td></tr>\n",
       "<tr><td>mean    </td><td>99.52                </td><td>51.29                </td><td>36.96                  </td><td>276.42              </td><td>24.22               </td></tr>\n",
       "<tr><td>max     </td><td>4909                 </td><td>1440                 </td><td>1040                   </td><td>7656                </td><td>736                 </td></tr>\n",
       "<tr><td>min     </td><td>0                    </td><td>0                    </td><td>0                      </td><td>0                   </td><td>0                   </td></tr>\n",
       "<tr><td>std     </td><td>222.84               </td><td>120.89               </td><td>87.01                  </td><td>363.03              </td><td>66.85               </td></tr>\n",
       "<tr><td>var     </td><td>49657.55             </td><td>14614.79             </td><td>7570.32                </td><td>131788.32           </td><td>4468.68             </td></tr>\n",
       "<tr><td>median  </td><td>16.0                 </td><td>15.0                 </td><td>12.0                   </td><td>228.0               </td><td>12.0                </td></tr>\n",
       "<tr><td>mode    </td><td>[1, 514]             </td><td>[0, 824]             </td><td>[0, 610]               </td><td>[345, 62]           </td><td>[12, 214]           </td></tr>\n",
       "</tbody>\n",
       "</table>"
      ],
      "text/plain": [
       "<IPython.core.display.HTML object>"
      ]
     },
     "metadata": {},
     "output_type": "display_data"
    }
   ],
   "source": [
    "from numpy import  median,mean,min,max,std,var\n",
    "from scipy.stats import mode\n",
    "\n",
    "mean_feature = [\"mean\"]\n",
    "max_feature = [\"max\"]\n",
    "min_feature = [\"min\"]\n",
    "std_feature = [\"std\"]\n",
    "var_feature = [\"var\"]\n",
    "median_feature = [\"median\"]\n",
    "mode_feature = [\"mode\"]\n",
    "\n",
    "# 轮询读取数据\n",
    "for i in [gam_in_links_cnt,gam_ex_links_cnt,gam_ex_links_domains,por_in_links_cnt,por_ex_links_cnt]:\n",
    "    base_cnt = i\n",
    "    mean_cnt,max_cnt,min_cnt,std_cnt,var_cnt,median_cnt,mode_cnt = compute_feature_data(base_cnt)\n",
    "    mean_feature.append(mean_cnt)\n",
    "    max_feature.append(max_cnt)\n",
    "    min_feature.append(min_cnt)\n",
    "    std_feature.append(std_cnt)\n",
    "    var_feature.append(var_cnt)\n",
    "    median_feature.append(median_cnt)\n",
    "    mode_feature.append([mode_cnt[0][0],mode_cnt[1][0]])\n",
    "\n",
    "## 制表\n",
    "header = ['features','gamble internal links','gamble external links','gamble external domains','porno internal links','porno external links']\n",
    "from tabulate import tabulate\n",
    "from IPython.display import HTML, display\n",
    "table = [header,mean_feature,max_feature,min_feature,std_feature,var_feature,median_feature,mode_feature]\n",
    "display(HTML(tabulate(table, tablefmt='html')))\n"
   ]
  },
  {
   "cell_type": "markdown",
   "metadata": {},
   "source": [
    "* 赌博网站更具有扩散性，因为其外链数量更多，域名更多"
   ]
  },
  {
   "cell_type": "markdown",
   "metadata": {},
   "source": [
    "### Special 特征"
   ]
  },
  {
   "cell_type": "markdown",
   "metadata": {},
   "source": [
    "部分非法网站的body里面嵌套大量的域名，而未在href、a等标签中\n",
    "* 未考虑好如何进行展示\n",
    "* 目前发现的是色情网站的嵌套域名更多，出现的频率更高"
   ]
  },
  {
   "cell_type": "code",
   "execution_count": 119,
   "metadata": {},
   "outputs": [
    {
     "name": "stdout",
     "output_type": "stream",
     "text": [
      "[ 203    6    4    4    5   12    4    6    5   10    5    4    4    4    4\n",
      "    4    4  202    5    4   60    4 1201    4  100  100   22    8    4    8\n",
      "    9    7    8    8    4    4    4    4    4    4    7    8    7    7   18\n",
      "    7   19    9   79    5    9    8   13   13    7    7    8    7    8   12\n",
      "    4   12    4   12   14    8   36   27   17]\n",
      "[17  4  4 31  7  5 10  7  5 10  5  9  5  5 37  9 34 28  6 33 36 40 28  6  6\n",
      "  8 28 34 35 34 25 21 27 35 28 20 35 21 27 45 31 33 30 29 33 35 35  9 26 26\n",
      " 29 36 35 10 38 31  6 21 30 31 27 34 32 29 10  8 29 12 28 22 35 36 30 31 31\n",
      "  6 29  6 26 33 35 31 23 32 30 20 24 35 17 32 25 40 10 31 28 34 36 36 26 34\n",
      " 25 30 34 30 33 27 28 36 34 33 14 14 36 34 20 37 19]\n"
     ]
    }
   ],
   "source": [
    "gam_diff = np.array(gam_ex_domains)-np.array(gam_ex_links_domains)\n",
    "print gam_diff[gam_diff>3]\n",
    "\n",
    "por_diff = np.array(por_ex_domains)-np.array(por_ex_links_domains)\n",
    "print por_diff[por_diff>3]"
   ]
  },
  {
   "cell_type": "code",
   "execution_count": null,
   "metadata": {
    "collapsed": true
   },
   "outputs": [],
   "source": []
  }
 ],
 "metadata": {
  "kernelspec": {
   "display_name": "Python 2",
   "language": "python",
   "name": "python2"
  },
  "language_info": {
   "codemirror_mode": {
    "name": "ipython",
    "version": 2
   },
   "file_extension": ".py",
   "mimetype": "text/x-python",
   "name": "python",
   "nbconvert_exporter": "python",
   "pygments_lexer": "ipython2",
   "version": "2.7.6"
  }
 },
 "nbformat": 4,
 "nbformat_minor": 2
}
