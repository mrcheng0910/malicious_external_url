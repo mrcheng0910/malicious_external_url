{
 "cells": [
  {
   "cell_type": "markdown",
   "metadata": {},
   "source": [
    "### 分析网站IP的更新频率和时长"
   ]
  },
  {
   "cell_type": "code",
   "execution_count": 13,
   "metadata": {
    "collapsed": true
   },
   "outputs": [],
   "source": [
    "# encoding:utf-8"
   ]
  },
  {
   "cell_type": "code",
   "execution_count": 99,
   "metadata": {
    "collapsed": true
   },
   "outputs": [],
   "source": [
    "from collections import Counter,defaultdict\n",
    "from pymongo import MongoClient\n",
    "from datetime import datetime"
   ]
  },
  {
   "cell_type": "code",
   "execution_count": 100,
   "metadata": {
    "collapsed": true
   },
   "outputs": [],
   "source": [
    "% matplotlib inline\n",
    "import matplotlib.pyplot as plt\n",
    "import numpy as np"
   ]
  },
  {
   "cell_type": "code",
   "execution_count": 101,
   "metadata": {},
   "outputs": [],
   "source": [
    "client = MongoClient('172.29.152.152', 27017)\n",
    "db = client['eds_last']\n",
    "col = db['domain_ip_geo']\n",
    "gam_records = col.find({'dm_type':'Gamble'})\n",
    "gam_duration_records = gam_records.clone()\n",
    "\n",
    "total_domains = gam_duration_records.count()   # 域名总数\n",
    "gam_duration = []\n",
    "ip_change_count = Counter()"
   ]
  },
  {
   "cell_type": "code",
   "execution_count": 102,
   "metadata": {},
   "outputs": [
    {
     "name": "stdout",
     "output_type": "stream",
     "text": [
      "域名IP整体更新频率: {1: 5711, 2: 19, 3: 28, 4: 14, 5: 10}\n"
     ]
    }
   ],
   "source": [
    "gam_geo = []   # 存储原始ip_geo记录\n",
    "\n",
    "for i in gam_duration_records:\n",
    "    ip_change_count[len(i['ip_geo'])] += 1  # 更新频率\n",
    "\n",
    "print '域名IP整体更新频率:', dict(ip_change_count)"
   ]
  },
  {
   "cell_type": "code",
   "execution_count": 103,
   "metadata": {},
   "outputs": [],
   "source": [
    "\n",
    "for i in gam_records:\n",
    "    if len(i['ip_geo'])<2: \n",
    "        continue\n",
    "    ip_time = []    # 按照从小到大的顺序存储时间\n",
    "    record_time = datetime.strptime(i['record_time'], \"%Y-%m-%d %H:%M:%S\")\n",
    "    ip_time.append(record_time)\n",
    "\n",
    "    for j in i['ip_geo']:\n",
    "        ip_time.append(datetime.strptime(j['insert_time'], \"%Y-%m-%d %H:%M:%S\"))\n",
    "\n",
    "    for d in range(0,len(ip_time)-1):\n",
    "        duration_time = (ip_time[d+1]-ip_time[d]).seconds/60\n",
    "        gam_duration.append(duration_time)\n",
    "    "
   ]
  },
  {
   "cell_type": "code",
   "execution_count": 105,
   "metadata": {},
   "outputs": [
    {
     "name": "stdout",
     "output_type": "stream",
     "text": [
      "195\n"
     ]
    },
    {
     "data": {
      "image/png": "[encoded data removed]",
      "text/plain": [
       "<matplotlib.figure.Figure at 0x102afac8>"
      ]
     },
     "metadata": {},
     "output_type": "display_data"
    }
   ],
   "source": [
    "plt.xlabel('Duration')\n",
    "plt.ylabel('Domain numbers')\n",
    "gam_duration = np.array(gam_duration);\n",
    "print len(gam_duration[gam_duration>0])\n",
    "plt.hist(gam_duration[gam_duration>0]);"
   ]
  }
 ],
 "metadata": {
  "kernelspec": {
   "display_name": "Python 2",
   "language": "python",
   "name": "python2"
  },
  "language_info": {
   "codemirror_mode": {
    "name": "ipython",
    "version": 2
   },
   "file_extension": ".py",
   "mimetype": "text/x-python",
   "name": "python",
   "nbconvert_exporter": "python",
   "pygments_lexer": "ipython2",
   "version": "2.7.6"
  }
 },
 "nbformat": 4,
 "nbformat_minor": 2
}
