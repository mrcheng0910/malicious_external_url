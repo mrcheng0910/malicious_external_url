{
 "cells": [
  {
   "cell_type": "markdown",
   "metadata": {},
   "source": [
    "## 分析域名、IP和地理位置"
   ]
  },
  {
   "cell_type": "code",
   "execution_count": 25,
   "metadata": {
    "collapsed": true
   },
   "outputs": [],
   "source": [
    "# encoding:utf-8"
   ]
  },
  {
   "cell_type": "code",
   "execution_count": 26,
   "metadata": {
    "collapsed": true
   },
   "outputs": [],
   "source": [
    "from collections import Counter,defaultdict\n",
    "import tldextract\n",
    "from pymongo import MongoClient\n",
    "from country_code import cn2en"
   ]
  },
  {
   "cell_type": "code",
   "execution_count": 27,
   "metadata": {
    "collapsed": true
   },
   "outputs": [],
   "source": [
    "client = MongoClient('172.29.152.152', 27017)\n",
    "db = client['eds_last']\n",
    "col = db['domain_ip_loc']"
   ]
  },
  {
   "cell_type": "code",
   "execution_count": 28,
   "metadata": {
    "collapsed": true
   },
   "outputs": [],
   "source": [
    "site_data = col.find({}).limit(1)[0]   # 得到待分析的数据"
   ]
  },
  {
   "cell_type": "code",
   "execution_count": 29,
   "metadata": {
    "collapsed": true
   },
   "outputs": [],
   "source": [
    "ip_counter = Counter()  # 域名解析出IP个数分布\n",
    "ip_sets = Counter()     # IP出现的频次\n",
    "ip_domain_sets = defaultdict(set)   # 相同IP对应的域名情况\n",
    "ip_country = Counter()     # 国家分布\n",
    "tld_counter = Counter()   # 顶级域名个数"
   ]
  },
  {
   "cell_type": "code",
   "execution_count": 30,
   "metadata": {
    "collapsed": true
   },
   "outputs": [],
   "source": [
    "outer_data = site_data['outer_data']\n",
    "for i in outer_data:\n",
    "\n",
    "    # 顶级域名分布\n",
    "    ext = tldextract.extract(i['domain'])\n",
    "    tld_counter[ext.suffix] += 1\n",
    "\n",
    "    ip_counter[len(i['ip'])] += 1    # 域名解析出IP个数的分布\n",
    "\n",
    "    for ip in i['ip']:\n",
    "        ip_sets[ip] += 1  # 各个IP出现的频率\n",
    "        ip_domain_sets[ip].add(i['domain'])  # IP对应的域名\n",
    "\n",
    "    for l in i['loc']:\n",
    "        ip_country[l['coutry']] += 1\n"
   ]
  },
  {
   "cell_type": "code",
   "execution_count": 31,
   "metadata": {
    "collapsed": true
   },
   "outputs": [],
   "source": [
    "% matplotlib inline\n",
    "import matplotlib.pyplot as plt\n",
    "import numpy as np"
   ]
  },
  {
   "cell_type": "markdown",
   "metadata": {},
   "source": [
    "### IP的分布情况"
   ]
  },
  {
   "cell_type": "code",
   "execution_count": 32,
   "metadata": {},
   "outputs": [
    {
     "name": "stdout",
     "output_type": "stream",
     "text": [
      "Counter({1: 169, 0: 22, 2: 17, 3: 2, 4: 1})\n"
     ]
    }
   ],
   "source": [
    "print ip_counter"
   ]
  },
  {
   "cell_type": "code",
   "execution_count": 33,
   "metadata": {},
   "outputs": [
    {
     "data": {
      "text/plain": [
       "<Container object of 5 artists>"
      ]
     },
     "execution_count": 33,
     "metadata": {},
     "output_type": "execute_result"
    },
    {
     "data": {
      "image/png": "[encoded data removed]",
      "text/plain": [
       "<matplotlib.figure.Figure at 0x67dc748>"
      ]
     },
     "metadata": {},
     "output_type": "display_data"
    }
   ],
   "source": [
    "x = np.arange(len(ip_counter))\n",
    "# x = ip_counter.keys()\n",
    "\n",
    "y = ip_counter.values()\n",
    "\n",
    "plt.xlabel('IP numbers')\n",
    "plt.ylabel('Domain numbers')\n",
    "\n",
    "plt.xticks(x,ip_counter.keys())\n",
    "plt.bar(x,y,align='center')"
   ]
  },
  {
   "cell_type": "markdown",
   "metadata": {},
   "source": [
    "### 国家分布情况"
   ]
  },
  {
   "cell_type": "markdown",
   "metadata": {},
   "source": [
    "### IP出现的频次"
   ]
  },
  {
   "cell_type": "code",
   "execution_count": 34,
   "metadata": {},
   "outputs": [
    {
     "name": "stdout",
     "output_type": "stream",
     "text": [
      "韩国\n",
      "KR\n",
      "香港\n",
      "HK\n",
      "爱尔兰\n",
      "IE\n",
      "未分配或者内网IP\n",
      "Internal-IP\n",
      "新加坡\n",
      "SG\n",
      "印度\n",
      "IN\n",
      "美国\n",
      "US\n",
      "中国\n",
      "CN\n",
      "加拿大\n",
      "CA\n"
     ]
    }
   ],
   "source": [
    "x = np.arange(len(ip_country))\n",
    "y=ip_country.values()\n",
    "\n",
    "for i in ip_country.keys():\n",
    "    print i\n",
    "    print cn2en.get(i.encode('utf-8'),'other')"
   ]
  },
  {
   "cell_type": "code",
   "execution_count": 35,
   "metadata": {},
   "outputs": [
    {
     "data": {
      "text/plain": [
       "<Container object of 9 artists>"
      ]
     },
     "execution_count": 35,
     "metadata": {},
     "output_type": "execute_result"
    },
    {
     "data": {
      "image/png": "[encoded data removed]",
      "text/plain": [
       "<matplotlib.figure.Figure at 0xc8fe550>"
      ]
     },
     "metadata": {},
     "output_type": "display_data"
    }
   ],
   "source": [
    "x_ticks = [cn2en.get(i.encode('utf-8'),'other') for i in ip_country.keys()]\n",
    "\n",
    "plt.xticks(x,x_ticks)\n",
    "plt.bar(x,y,align='center')"
   ]
  },
  {
   "cell_type": "markdown",
   "metadata": {},
   "source": [
    "### 顶级域名的情况"
   ]
  },
  {
   "cell_type": "code",
   "execution_count": 36,
   "metadata": {},
   "outputs": [
    {
     "name": "stdout",
     "output_type": "stream",
     "text": [
      "Counter({u'com': 195, u'net': 10, u'cc': 4, u'me': 1, u'in': 1})\n"
     ]
    }
   ],
   "source": [
    "print tld_counter"
   ]
  },
  {
   "cell_type": "code",
   "execution_count": 37,
   "metadata": {},
   "outputs": [
    {
     "data": {
      "text/plain": [
       "<Container object of 5 artists>"
      ]
     },
     "execution_count": 37,
     "metadata": {},
     "output_type": "execute_result"
    },
    {
     "data": {
      "image/png": "[encoded data removed]",
      "text/plain": [
       "<matplotlib.figure.Figure at 0xcbfe1d0>"
      ]
     },
     "metadata": {},
     "output_type": "display_data"
    }
   ],
   "source": [
    "x = np.arange(len(tld_counter))\n",
    "y=tld_counter.values()\n",
    "\n",
    "plt.xlabel('Top-level domains')\n",
    "plt.ylabel('Domains')\n",
    "\n",
    "plt.xticks(x,tld_counter.keys())\n",
    "plt.bar(x,y,align='center')"
   ]
  },
  {
   "cell_type": "code",
   "execution_count": null,
   "metadata": {
    "collapsed": true
   },
   "outputs": [],
   "source": []
  }
 ],
 "metadata": {
  "kernelspec": {
   "display_name": "Python 2",
   "language": "python",
   "name": "python2"
  },
  "language_info": {
   "codemirror_mode": {
    "name": "ipython",
    "version": 2
   },
   "file_extension": ".py",
   "mimetype": "text/x-python",
   "name": "python",
   "nbconvert_exporter": "python",
   "pygments_lexer": "ipython2",
   "version": "2.7.6"
  }
 },
 "nbformat": 4,
 "nbformat_minor": 2
}
