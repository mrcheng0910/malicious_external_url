{
 "cells": [
  {
   "cell_type": "markdown",
   "metadata": {},
   "source": [
    "## 解析非法域名的IP和地理位置"
   ]
  },
  {
   "cell_type": "markdown",
   "metadata": {},
   "source": [
    "分析非法网站的顶级域名的数量分布情况"
   ]
  },
  {
   "cell_type": "code",
   "execution_count": null,
   "metadata": {},
   "outputs": [],
   "source": [
    "from db_manage import get_col\n",
    "from reverse_ip import domain2ip\n",
    "from ip2location import ip2region\n",
    "from datetime import datetime\n",
    "from pymongo import MongoClient"
   ]
  },
  {
   "cell_type": "code",
   "execution_count": null,
   "metadata": {},
   "outputs": [],
   "source": [
    "# encoding:utf-8\n",
    "from collections import Counter,defaultdict,OrderedDict\n",
    "import tldextract\n",
    "from ip2location import ip2region"
   ]
  },
  {
   "cell_type": "code",
   "execution_count": null,
   "metadata": {},
   "outputs": [],
   "source": [
    "client = MongoClient('172.29.152.152', 27017)\n",
    "db = client['eds_last']\n",
    "col = db['malicious_domains']\n",
    "gamble_sites = col.find({'typ':'Gamble'},{'_id':0,'domain':1})   # 赌博网站"
   ]
  },
  {
   "cell_type": "code",
   "execution_count": null,
   "metadata": {
    "collapsed": true
   },
   "outputs": [],
   "source": [
    "def fetch_ip_geo(domain):\n",
    "    \"\"\"\n",
    "    处理数据,获取域名的IP列表和地址\n",
    "    \"\"\"\n",
    "    ips = domain2ip(domain)\n",
    "    loc = []\n",
    "    for i in ips:\n",
    "        loc.append(ip2region(i))\n",
    "    return ips, loc"
   ]
  },
  {
   "cell_type": "code",
   "execution_count": null,
   "metadata": {},
   "outputs": [],
   "source": [
    "for i in gamble_sites:\n",
    "    ips = domain2ip(i['domain'])\n",
    "    loc = []\n",
    "    for i in ips:\n",
    "        loc.append(ip2region(i))\n",
    "    print loc"
   ]
  },
  {
   "cell_type": "code",
   "execution_count": null,
   "metadata": {
    "collapsed": true
   },
   "outputs": [],
   "source": []
  }
 ],
 "metadata": {
  "kernelspec": {
   "display_name": "Python 2",
   "language": "python",
   "name": "python2"
  },
  "language_info": {
   "codemirror_mode": {
    "name": "ipython",
    "version": 2
   },
   "file_extension": ".py",
   "mimetype": "text/x-python",
   "name": "python",
   "nbconvert_exporter": "python",
   "pygments_lexer": "ipython2",
   "version": "2.7.6"
  }
 },
 "nbformat": 4,
 "nbformat_minor": 2
}
