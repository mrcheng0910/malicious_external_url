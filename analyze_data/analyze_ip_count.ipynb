{
 "cells": [
  {
   "cell_type": "markdown",
   "metadata": {},
   "source": [
    "### 分析非法网站和合法网站的ip的数量\n",
    "\n",
    "* 合法域名和非法域名的ip的个数\n",
    "* **注意**：这个数据只解析一次域名的IP地址的数据\n",
    "* 缺陷  \n",
    "这是一次探测的结果数据，需要考虑是否需要多次探测。"
   ]
  },
  {
   "cell_type": "code",
   "execution_count": 19,
   "metadata": {
    "collapsed": true
   },
   "outputs": [],
   "source": [
    "# encoding:utf-8\n",
    "from collections import Counter\n",
    "from pymongo import MongoClient\n",
    "% matplotlib inline\n",
    "import matplotlib.pyplot as plt\n",
    "import numpy as np"
   ]
  },
  {
   "cell_type": "code",
   "execution_count": 20,
   "metadata": {
    "collapsed": true
   },
   "outputs": [],
   "source": [
    "client = MongoClient('172.29.152.152', 27017)\n",
    "db = client['eds_last']\n",
    "domain_col = db['domain_ttl_white_new']\n",
    "mal_col = db['domain_ttl_new']"
   ]
  },
  {
   "cell_type": "code",
   "execution_count": 21,
   "metadata": {
    "collapsed": true
   },
   "outputs": [],
   "source": [
    "def manage_data(records):\n",
    "    r_counter = Counter()\n",
    "    for r in records:\n",
    "        ip_ttl_list = r['data'][0]['ips_ttl']\n",
    "        if ip_ttl_list:\n",
    "                r_counter[len(ip_ttl_list)] +=1\n",
    "    return r_counter"
   ]
  },
  {
   "cell_type": "code",
   "execution_count": 22,
   "metadata": {
    "collapsed": true
   },
   "outputs": [],
   "source": [
    "def manage_label(r_counter,domain_count):\n",
    "    r_counter = r_counter.most_common()\n",
    "    x = np.arange(len(r_counter))\n",
    "    y,x_ticks = [],[]\n",
    "    for i,j in r_counter:\n",
    "        percent_j = float(j)/domain_count*100\n",
    "        x_ticks.append(i)\n",
    "        y.append(percent_j)\n",
    "#         print i,j\n",
    "    return x,y,x_ticks"
   ]
  },
  {
   "cell_type": "code",
   "execution_count": 29,
   "metadata": {},
   "outputs": [
    {
     "name": "stdout",
     "output_type": "stream",
     "text": [
      "29036\n",
      "36433\n"
     ]
    }
   ],
   "source": [
    "domain_records = domain_col.find({'data.ips':{'$not': {'$size': 0}}})\n",
    "mal_records = mal_col.find({'data.ips':{'$not': {'$size': 0}}})\n",
    "ip_ttl_counter,mal_ip_ttl_counter = Counter(),Counter()\n",
    "\n",
    "ip_ttl_counter = manage_data(domain_records)\n",
    "mal_ip_ttl_counter = manage_data(mal_records)\n",
    "\n",
    "domain_count = domain_records.count()\n",
    "mal_count = mal_records.count()\n",
    "print domain_count\n",
    "print mal_count\n",
    "\n",
    "x,y,x_ticks = manage_label(ip_ttl_counter,domain_count)\n",
    "mal_x,mal_y,mal_x_ticks = manage_label(mal_ip_ttl_counter,mal_count)"
   ]
  },
  {
   "cell_type": "code",
   "execution_count": 30,
   "metadata": {},
   "outputs": [
    {
     "data": {
      "image/png": "[encoded data removed]",
      "text/plain": [
       "<matplotlib.figure.Figure at 0x19913c50>"
      ]
     },
     "metadata": {},
     "output_type": "display_data"
    }
   ],
   "source": [
    "top = 30\n",
    "\n",
    "## 非法网站的变量内容\n",
    "mal_y = mal_y[:top]\n",
    "mal_x = mal_x[:top]\n",
    "mal_x_ticks = mal_x_ticks[:top]\n",
    "domain_y = []\n",
    "\n",
    "for i in mal_x_ticks:\n",
    "    if ip_ttl_counter[i]:\n",
    "        domain_y.append(float(ip_ttl_counter[i])/domain_count*100)\n",
    "    else:\n",
    "        domain_y.append(0)\n",
    "    \n",
    "fig, ax = plt.subplots(figsize=(6, 4))\n",
    "index = np.arange(top)\n",
    "bar_width = 0.35\n",
    "\n",
    "rects1 = ax.bar(mal_x, mal_y, bar_width, color='r', label='Malicious domains')\n",
    "rects2 = ax.bar(mal_x + bar_width, domain_y, bar_width, color='b', label='White domains')\n",
    "\n",
    "ax.set_xlabel('The number of IPs')\n",
    "ax.set_ylabel('The percent of domains (%)')\n",
    "ax.set_xticks(mal_x + bar_width / 2)\n",
    "ax.set_xticklabels(mal_x_ticks,rotation=90)\n",
    "ax.legend()\n",
    "\n",
    "fig.tight_layout()\n",
    "plt.show()"
   ]
  },
  {
   "cell_type": "markdown",
   "metadata": {},
   "source": [
    "**上图说明**  \n",
    "\n",
    "* 非法和合法域名的IP个数大部分为1个，少部分为2个，其他个数较少，特征基本相同。"
   ]
  },
  {
   "cell_type": "code",
   "execution_count": null,
   "metadata": {
    "collapsed": true
   },
   "outputs": [],
   "source": []
  }
 ],
 "metadata": {
  "kernelspec": {
   "display_name": "Python 2",
   "language": "python",
   "name": "python2"
  },
  "language_info": {
   "codemirror_mode": {
    "name": "ipython",
    "version": 2
   },
   "file_extension": ".py",
   "mimetype": "text/x-python",
   "name": "python",
   "nbconvert_exporter": "python",
   "pygments_lexer": "ipython2",
   "version": "2.7.6"
  }
 },
 "nbformat": 4,
 "nbformat_minor": 2
}
