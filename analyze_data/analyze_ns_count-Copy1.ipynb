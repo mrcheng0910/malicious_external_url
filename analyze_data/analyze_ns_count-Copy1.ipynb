{
 "cells": [
  {
   "cell_type": "markdown",
   "metadata": {},
   "source": [
    "### 分析非法网站和合法网站的ns的数量\n",
    "\n",
    "* 合法域名和非法域名使用ns的数量\n",
    "* **注意**：这个数据只解析一次域名的IP地址的数据\n",
    "* todo  \n",
    "    * 是否需要进行多次探测，发现其ns是否有变化"
   ]
  },
  {
   "cell_type": "code",
   "execution_count": 208,
   "metadata": {
    "collapsed": true
   },
   "outputs": [],
   "source": [
    "# encoding:utf-8\n",
    "from collections import Counter\n",
    "from pymongo import MongoClient\n",
    "from pandas import Series\n",
    "\n",
    "% matplotlib inline\n",
    "import matplotlib.pyplot as plt\n",
    "import numpy as np\n",
    "import tldextract"
   ]
  },
  {
   "cell_type": "code",
   "execution_count": 220,
   "metadata": {
    "collapsed": true
   },
   "outputs": [],
   "source": [
    "client = MongoClient('172.29.152.152', 27017)\n",
    "db = client['eds_last']\n",
    "domain_col = db['domain_ttl_white_china']\n",
    "mal_col = db['domain_ttl_new']"
   ]
  },
  {
   "cell_type": "code",
   "execution_count": 221,
   "metadata": {
    "collapsed": true
   },
   "outputs": [],
   "source": [
    "def is_same(ns_list):\n",
    "    \"\"\"\n",
    "    判断NS记录集合是否相同的二级域名\n",
    "    \"\"\"\n",
    "    domain_set = set()\n",
    "    for i in ns_list:\n",
    "        domain_tld = tldextract.extract(i.lower())\n",
    "        domain_set.add(domain_tld.domain+'.'+domain_tld.suffix)\n",
    "    return len(domain_set)==1"
   ]
  },
  {
   "cell_type": "code",
   "execution_count": 222,
   "metadata": {
    "collapsed": true
   },
   "outputs": [],
   "source": [
    "def classify_ns(records):\n",
    "    \"\"\"\n",
    "    分类NS，分为相同NS域名和不同NS域名\n",
    "    \"\"\"\n",
    "    same_name = []\n",
    "    not_same_name = []\n",
    "    for r in records:\n",
    "        ns_list = r['data'][0]['ns']\n",
    "        if is_same(ns_list):\n",
    "            same_name.append(ns_list)\n",
    "        else:\n",
    "            not_same_name.append(ns_list)\n",
    "    return same_name,not_same_name          "
   ]
  },
  {
   "cell_type": "code",
   "execution_count": 223,
   "metadata": {
    "collapsed": true
   },
   "outputs": [],
   "source": [
    "def count_ns(ns_name):\n",
    "    \"\"\"\n",
    "    计数不同NS数量的域名数量\n",
    "    \"\"\"\n",
    "    ns_counter = Counter()\n",
    "    for i in ns_name:\n",
    "        ns_counter[len(i)]+=1\n",
    "    return ns_counter"
   ]
  },
  {
   "cell_type": "code",
   "execution_count": 224,
   "metadata": {
    "collapsed": true
   },
   "outputs": [],
   "source": [
    "\n",
    "def union_ns(dm_counter, mal_counter):\n",
    "    \"\"\"\n",
    "    合并两类NS\"\"\"\n",
    "    index = list(set(dm_counter.keys()+mal_counter.keys()))\n",
    "    \n",
    "    mal_series = Series(mal_counter, index = index)\n",
    "    dm_series = Series(dm_counter,index = index)\n",
    "    mal_series = mal_series.fillna(0)\n",
    "    dm_series = dm_series.fillna(0)\n",
    "    mal_series = mal_series/mal_series.sum()\n",
    "    dm_series = dm_series/dm_series.sum()\n",
    "    return mal_series, dm_series"
   ]
  },
  {
   "cell_type": "code",
   "execution_count": 225,
   "metadata": {},
   "outputs": [],
   "source": [
    "def count_same_ns(ns_list):\n",
    "    ns_counter = Counter()\n",
    "    for i in ns_list:\n",
    "        domain_tld = tldextract.extract(i[0].lower())\n",
    "        ns_counter[domain_tld.domain+'.'+domain_tld.suffix]+=1\n",
    "#     for i,j in ns_counter.most_common():\n",
    "#         print i,j\n",
    "    return ns_counter"
   ]
  },
  {
   "cell_type": "code",
   "execution_count": 226,
   "metadata": {
    "scrolled": true
   },
   "outputs": [
    {
     "name": "stdout",
     "output_type": "stream",
     "text": [
      "21911 2732 0.12468623066\n",
      "40894 3621 0.0885459969678\n"
     ]
    }
   ],
   "source": [
    "domain_records = domain_col.find({'data.ns':{'$not': {'$size': 0}}})\n",
    "mal_records = mal_col.find({'data.ns':{'$not': {'$size': 0}}})\n",
    "\n",
    "dm_same_name,dm_not_same_name = classify_ns(domain_records)\n",
    "mal_same_name,mal_not_same_name = classify_ns(mal_records)\n",
    "\n",
    "dm_total_ns =  domain_records.count()\n",
    "dm_total_not_ns = len(dm_not_same_name)\n",
    "mal_total_ns = mal_records.count()\n",
    "mal_total_not_ns = len(mal_not_same_name)\n",
    "\n",
    "print dm_total_ns,dm_total_not_ns, float(dm_total_not_ns)/dm_total_ns\n",
    "print mal_total_ns,mal_total_not_ns, float(mal_total_not_ns)/mal_total_ns\n",
    "\n",
    "dm_counter = count_ns(dm_not_same_name)\n",
    "mal_counter = count_ns(mal_not_same_name)\n",
    "\n",
    "mal_series, dm_series = union_ns(dm_counter,mal_counter)\n",
    "\n",
    "dm_same_cnt = count_same_ns(dm_same_name)\n",
    "mal_same_cnt = count_same_ns(mal_same_name)"
   ]
  },
  {
   "cell_type": "markdown",
   "metadata": {},
   "source": [
    "* 上面数据说明  \n",
    "    * 白名单的NS服务器更加不一致，防止出现问题\n",
    "    * 非法域名则大部分相同，可能未考虑这方面的内容"
   ]
  },
  {
   "cell_type": "markdown",
   "metadata": {},
   "source": [
    "## 含有不同NS记录的域名进行分析"
   ]
  },
  {
   "cell_type": "code",
   "execution_count": 227,
   "metadata": {},
   "outputs": [
    {
     "data": {
      "image/png": "[encoded data removed]",
      "text/plain": [
       "<matplotlib.figure.Figure at 0x15113dd8>"
      ]
     },
     "metadata": {},
     "output_type": "display_data"
    }
   ],
   "source": [
    "fig, ax = plt.subplots(figsize=(6, 4))\n",
    "index = np.arange(mal_series.size)\n",
    "bar_width = 0.35\n",
    "\n",
    "rects1 = ax.bar(index, mal_series.values, bar_width, color='r', label='Malicious domains')\n",
    "rects2 = ax.bar(index + bar_width, dm_series.values, bar_width, color='b', label='White domains')\n",
    "\n",
    "ax.set_xlabel('The number of ns')\n",
    "ax.set_ylabel('The percent of domains (%)')\n",
    "ax.set_xticks(index + bar_width / 2)\n",
    "ax.set_xticklabels(mal_series.index,rotation=90)\n",
    "ax.legend()\n",
    "fig.tight_layout()\n",
    "plt.show()"
   ]
  },
  {
   "cell_type": "markdown",
   "metadata": {
    "collapsed": true
   },
   "source": [
    "上图说明：\n",
    "*  非法域名大部分为2个NS服务器\n",
    "* 合法域名不同的NS服务器情况，多存在于含有4个NS记录的域名中"
   ]
  },
  {
   "cell_type": "code",
   "execution_count": 231,
   "metadata": {},
   "outputs": [
    {
     "name": "stdout",
     "output_type": "stream",
     "text": [
      "dnspod.net \t10432\n",
      "iidns.com \t5129\n",
      "domaincontrol.com \t3118\n",
      "dnspod.com \t2588\n",
      "hichina.com \t2296\n",
      "dns.com \t1208\n",
      "dns123456789.com \t850\n",
      "name-services.com \t801\n",
      "22.cn \t659\n",
      "51dns.com \t539\n",
      "cloudflare.com \t508\n",
      "ecedns.com \t442\n",
      "xundns.com \t418\n",
      "myhostadmin.net \t397\n",
      "qndns.com \t347\n",
      "xincache.com \t342\n",
      "alidns.com \t310\n",
      "dnsv2.com \t286\n",
      "0123401234.com \t257\n",
      "dnsever.com \t235\n"
     ]
    }
   ],
   "source": [
    "for i,j in mal_same_cnt.most_common(20):\n",
    "    print i,'\\t',j"
   ]
  },
  {
   "cell_type": "code",
   "execution_count": null,
   "metadata": {
    "collapsed": true
   },
   "outputs": [],
   "source": []
  }
 ],
 "metadata": {
  "kernelspec": {
   "display_name": "Python 2",
   "language": "python",
   "name": "python2"
  },
  "language_info": {
   "codemirror_mode": {
    "name": "ipython",
    "version": 2
   },
   "file_extension": ".py",
   "mimetype": "text/x-python",
   "name": "python",
   "nbconvert_exporter": "python",
   "pygments_lexer": "ipython2",
   "version": "2.7.6"
  }
 },
 "nbformat": 4,
 "nbformat_minor": 2
}
