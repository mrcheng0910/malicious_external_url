{
 "cells": [
  {
   "cell_type": "markdown",
   "metadata": {},
   "source": [
    "### 分析非法网站和合法网站的cname的数量\n",
    "\n",
    "* 合法域名和非法域名使用cname的数量\n",
    "* **注意**：这个数据只解析一次域名的IP地址的数据\n",
    "* todo  \n",
    "    * 是否需要进行多次探测，发现其cname是否有变化"
   ]
  },
  {
   "cell_type": "code",
   "execution_count": 31,
   "metadata": {
    "collapsed": true
   },
   "outputs": [],
   "source": [
    "# encoding:utf-8\n",
    "from collections import Counter\n",
    "from pymongo import MongoClient\n",
    "\n",
    "% matplotlib inline\n",
    "import matplotlib.pyplot as plt\n",
    "import numpy as np"
   ]
  },
  {
   "cell_type": "code",
   "execution_count": 32,
   "metadata": {
    "collapsed": true
   },
   "outputs": [],
   "source": [
    "client = MongoClient('172.29.152.152', 27017)\n",
    "db = client['eds_last']\n",
    "domain_col = db['domain_ttl_white_new']\n",
    "mal_col = db['domain_ttl_new']"
   ]
  },
  {
   "cell_type": "code",
   "execution_count": 33,
   "metadata": {
    "collapsed": true
   },
   "outputs": [],
   "source": [
    "def manage_data(records):\n",
    "    r_count = 0  # 记录数量\n",
    "    r_counter = Counter()\n",
    "    for r in records:\n",
    "        ip_ttl_list = r['data'][0]['cnames_ttl']\n",
    "        if ip_ttl_list:\n",
    "            r_count += 1\n",
    "            r_counter[len(ip_ttl_list)] +=1\n",
    "    return r_count, r_counter"
   ]
  },
  {
   "cell_type": "code",
   "execution_count": 34,
   "metadata": {
    "collapsed": true
   },
   "outputs": [],
   "source": [
    "def manage_label(r_counter,domain_count):\n",
    "    r_counter = r_counter.most_common()\n",
    "    x = np.arange(len(r_counter))\n",
    "    y,x_ticks = [],[]\n",
    "    for i,j in r_counter:\n",
    "        percent_j = float(j)/domain_count*100\n",
    "        x_ticks.append(i)\n",
    "        y.append(percent_j)\n",
    "#         print i,round(percent_j,2)\n",
    "    \n",
    "    return x,y,x_ticks"
   ]
  },
  {
   "cell_type": "code",
   "execution_count": 37,
   "metadata": {},
   "outputs": [
    {
     "name": "stdout",
     "output_type": "stream",
     "text": [
      "11363 29093 0.39\n",
      "11601 36433 0.32\n"
     ]
    }
   ],
   "source": [
    "domain_records = domain_col.find({'data.ips':{'$not': {'$size': 0}}})\n",
    "mal_records = mal_col.find({'data.ips':{'$not': {'$size': 0}}})\n",
    "ip_ttl_counter,mal_ip_ttl_counter = Counter(),Counter()\n",
    "domain_count, mal_count=  0,0\n",
    "\n",
    "domain_count, ip_ttl_counter = manage_data(domain_records)\n",
    "mal_count, mal_ip_ttl_counter = manage_data(mal_records)\n",
    "\n",
    "print domain_count,domain_records.count(),round(float(domain_count)/domain_records.count(),2)\n",
    "print mal_count,mal_records.count(),round(float(mal_count)/mal_records.count(),2)\n",
    "\n",
    "x,y,x_ticks = manage_label(ip_ttl_counter,domain_count)\n",
    "mal_x,mal_y,mal_x_ticks = manage_label(mal_ip_ttl_counter,mal_count)"
   ]
  },
  {
   "cell_type": "markdown",
   "metadata": {},
   "source": [
    "**说明问题**    \n",
    "该统计数据用来发现合法域名和非法域名所拥有的cname分布是否相同"
   ]
  },
  {
   "cell_type": "code",
   "execution_count": 36,
   "metadata": {},
   "outputs": [
    {
     "data": {
      "image/png": "[encoded data removed]",
      "text/plain": [
       "<matplotlib.figure.Figure at 0xdd84390>"
      ]
     },
     "metadata": {},
     "output_type": "display_data"
    }
   ],
   "source": [
    "top = 10\n",
    "\n",
    "## 非法网站的变量内容\n",
    "mal_y = mal_y[:top]\n",
    "mal_x = mal_x[:top]\n",
    "mal_x_ticks = mal_x_ticks[:top]\n",
    "domain_y = []\n",
    "\n",
    "for i in mal_x_ticks:\n",
    "    if ip_ttl_counter[i]:\n",
    "        domain_y.append(float(ip_ttl_counter[i])/domain_count*100)\n",
    "    else:\n",
    "        domain_y.append(0)\n",
    "    \n",
    "fig, ax = plt.subplots(figsize=(6, 4))\n",
    "index = np.arange(top)\n",
    "bar_width = 0.35\n",
    "\n",
    "rects1 = ax.bar(mal_x, mal_y, bar_width, color='r', label='Malicious domains')\n",
    "rects2 = ax.bar(mal_x + bar_width, domain_y, bar_width, color='b', label='White domains')\n",
    "\n",
    "ax.set_xlabel('The number of cnames')\n",
    "ax.set_ylabel('The percent of domains (%)')\n",
    "ax.set_xticks(mal_x + bar_width / 2)\n",
    "ax.set_xticklabels(mal_x_ticks,rotation=90)\n",
    "ax.legend()\n",
    "\n",
    "fig.tight_layout()\n",
    "plt.show()"
   ]
  },
  {
   "cell_type": "markdown",
   "metadata": {},
   "source": [
    "**上图说明**  \n",
    "* 非法域名和白名单里的cname数量基本相同"
   ]
  },
  {
   "cell_type": "code",
   "execution_count": null,
   "metadata": {
    "collapsed": true
   },
   "outputs": [],
   "source": []
  }
 ],
 "metadata": {
  "kernelspec": {
   "display_name": "Python 2",
   "language": "python",
   "name": "python2"
  },
  "language_info": {
   "codemirror_mode": {
    "name": "ipython",
    "version": 2
   },
   "file_extension": ".py",
   "mimetype": "text/x-python",
   "name": "python",
   "nbconvert_exporter": "python",
   "pygments_lexer": "ipython2",
   "version": "2.7.6"
  }
 },
 "nbformat": 4,
 "nbformat_minor": 2
}
