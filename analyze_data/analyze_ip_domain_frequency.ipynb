{
 "cells": [
  {
   "cell_type": "markdown",
   "metadata": {},
   "source": [
    "### 分析网站IP的更新频率和时长"
   ]
  },
  {
   "cell_type": "code",
   "execution_count": 106,
   "metadata": {
    "collapsed": true
   },
   "outputs": [],
   "source": [
    "# encoding:utf-8"
   ]
  },
  {
   "cell_type": "code",
   "execution_count": 134,
   "metadata": {
    "collapsed": true
   },
   "outputs": [],
   "source": [
    "from collections import Counter,defaultdict\n",
    "from pymongo import MongoClient\n",
    "from datetime import datetime"
   ]
  },
  {
   "cell_type": "code",
   "execution_count": 139,
   "metadata": {
    "collapsed": true
   },
   "outputs": [],
   "source": [
    "% matplotlib inline\n",
    "import matplotlib.pyplot as plt\n",
    "import numpy as np"
   ]
  },
  {
   "cell_type": "code",
   "execution_count": 143,
   "metadata": {},
   "outputs": [],
   "source": [
    "client = MongoClient('172.29.152.152', 27017)\n",
    "db = client['eds_last']\n",
    "col = db['domain_ip_geo']\n",
    "gam_records = col.find({'dm_type':'Gamble'})\n",
    "gam_duration_records = gam_records.clone()\n",
    "\n",
    "total_domains = gam_duration_records.count()   # 域名总数\n",
    "gam_duration = []\n",
    "ip_change_count = Counter()"
   ]
  },
  {
   "cell_type": "code",
   "execution_count": 144,
   "metadata": {},
   "outputs": [
    {
     "name": "stdout",
     "output_type": "stream",
     "text": [
      "39330.com\n",
      "592888.com\n",
      "bh989.com\n",
      "jjdzjj.com\n",
      "域名IP整体更新频率: {1: 5585, 2: 72, 3: 48, 4: 20, 5: 20, 6: 4, 7: 4, 8: 1, 9: 1, 10: 2, 11: 4, 12: 1, 13: 2, 14: 1, 15: 7, 16: 3, 17: 7}\n"
     ]
    }
   ],
   "source": [
    "gam_geo = []   # 存储原始ip_geo记录\n",
    "\n",
    "for i in gam_duration_records:\n",
    "    ip_change_count[len(i['ip_geo'])] += 1  # 更新频率\n",
    "    if len(i['ip_geo'])==7:\n",
    "        print i['domain']\n",
    "\n",
    "print '域名IP整体更新频率:', dict(ip_change_count)"
   ]
  },
  {
   "cell_type": "code",
   "execution_count": 111,
   "metadata": {},
   "outputs": [],
   "source": [
    "\n",
    "for i in gam_records:\n",
    "    if len(i['ip_geo'])<2: \n",
    "        continue\n",
    "    ip_time = []    # 按照从小到大的顺序存储时间\n",
    "    record_time = datetime.strptime(i['record_time'], \"%Y-%m-%d %H:%M:%S\")\n",
    "    ip_time.append(record_time)\n",
    "\n",
    "    for j in i['ip_geo']:\n",
    "        ip_time.append(datetime.strptime(j['insert_time'], \"%Y-%m-%d %H:%M:%S\"))\n",
    "\n",
    "    for d in range(0,len(ip_time)-1):\n",
    "        duration_time = (ip_time[d+1]-ip_time[d]).seconds/60\n",
    "        gam_duration.append(duration_time)\n",
    "    "
   ]
  },
  {
   "cell_type": "code",
   "execution_count": 112,
   "metadata": {},
   "outputs": [
    {
     "name": "stdout",
     "output_type": "stream",
     "text": [
      "447\n"
     ]
    },
    {
     "data": {
      "image/png": "[encoded data removed]",
      "text/plain": [
       "<matplotlib.figure.Figure at 0xf4d46d8>"
      ]
     },
     "metadata": {},
     "output_type": "display_data"
    }
   ],
   "source": [
    "plt.xlabel('Duration')\n",
    "plt.ylabel('Domain numbers')\n",
    "gam_duration = np.array(gam_duration);\n",
    "print len(gam_duration[gam_duration>0])\n",
    "plt.hist(gam_duration[gam_duration>0]);"
   ]
  }
 ],
 "metadata": {
  "kernelspec": {
   "display_name": "Python 2",
   "language": "python",
   "name": "python2"
  },
  "language_info": {
   "codemirror_mode": {
    "name": "ipython",
    "version": 2
   },
   "file_extension": ".py",
   "mimetype": "text/x-python",
   "name": "python",
   "nbconvert_exporter": "python",
   "pygments_lexer": "ipython2",
   "version": "2.7.6"
  }
 },
 "nbformat": 4,
 "nbformat_minor": 2
}
