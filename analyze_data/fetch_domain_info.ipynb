{
 "cells": [
  {
   "cell_type": "markdown",
   "metadata": {},
   "source": [
    "## 获取非法网站的数据并存储到文件"
   ]
  },
  {
   "cell_type": "code",
   "execution_count": 32,
   "metadata": {
    "collapsed": true
   },
   "outputs": [],
   "source": [
    "# encoding:utf-8\n",
    "from pymongo import MongoClient"
   ]
  },
  {
   "cell_type": "code",
   "execution_count": 33,
   "metadata": {
    "collapsed": true
   },
   "outputs": [],
   "source": [
    "% matplotlib inline\n",
    "import numpy as np"
   ]
  },
  {
   "cell_type": "code",
   "execution_count": 34,
   "metadata": {
    "collapsed": true
   },
   "outputs": [],
   "source": [
    "client = MongoClient('172.29.152.152', 27017)\n",
    "db = client['eds_last']\n",
    "col = db['malicious_domains']\n",
    "gamble_sites = col.find({'typ':'Gamble'},{'_id':0,'domain':1})   # 赌博网站\n",
    "porno_sites = col.find({'typ':'Porno'},{'_id':0,'domain':1})  # 色情网站"
   ]
  },
  {
   "cell_type": "code",
   "execution_count": 35,
   "metadata": {},
   "outputs": [],
   "source": [
    "col = db['visited_domains']\n",
    "gam_dm_info = []\n",
    "por_dm_info = []\n",
    "\n",
    "for d in gamble_sites:\n",
    "    info = col.find_one({'domain': d['domain']})\n",
    "    gam_dm_info.append(info)\n",
    "\n",
    "for d in porno_sites:\n",
    "    info = col.find_one({'domain':d['domain']})\n",
    "    por_dm_info.append(info)\n",
    "\n",
    "# 存在文件\n",
    "np.save('gam_dm_info', gam_dm_info) \n",
    "np.save('por_dm_info',por_dm_info)"
   ]
  }
 ],
 "metadata": {
  "kernelspec": {
   "display_name": "Python 2",
   "language": "python",
   "name": "python2"
  },
  "language_info": {
   "codemirror_mode": {
    "name": "ipython",
    "version": 2
   },
   "file_extension": ".py",
   "mimetype": "text/x-python",
   "name": "python",
   "nbconvert_exporter": "python",
   "pygments_lexer": "ipython2",
   "version": "2.7.6"
  }
 },
 "nbformat": 4,
 "nbformat_minor": 2
}
