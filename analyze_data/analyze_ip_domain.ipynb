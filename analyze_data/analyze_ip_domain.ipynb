{
 "cells": [
  {
   "cell_type": "markdown",
   "metadata": {},
   "source": [
    "## 分析不同类型非法域名IP和地理位置情况"
   ]
  },
  {
   "cell_type": "code",
   "execution_count": 31,
   "metadata": {
    "collapsed": true
   },
   "outputs": [],
   "source": [
    "# encoding:utf-8"
   ]
  },
  {
   "cell_type": "code",
   "execution_count": 32,
   "metadata": {
    "collapsed": true
   },
   "outputs": [],
   "source": [
    "from collections import Counter,defaultdict\n",
    "import tldextract\n",
    "from pymongo import MongoClient\n",
    "from country_code import cn2en"
   ]
  },
  {
   "cell_type": "code",
   "execution_count": 33,
   "metadata": {},
   "outputs": [],
   "source": [
    "client = MongoClient('172.29.152.152', 27017)\n",
    "db = client['eds_last']\n",
    "col = db['domain_ip_geo']\n",
    "gam_records = col.find({'dm_type':'Gamble'})\n",
    "\n",
    "gam_duration_records = gam_records.clone()\n",
    "\n",
    "total_domains = gam_records.count()   # 域名总数\n",
    "ip_change_count = Counter()  # 域名IP更新频率\n",
    "ip_number_count = Counter()  # 域名拥有IP的数量，包括当前和之前曾经使用过的\n",
    "total_ips = []     # 所有域名的IP总数，用来查看是否有域名使用相同的IP\n",
    "gam_duration = []\n"
   ]
  },
  {
   "cell_type": "code",
   "execution_count": 34,
   "metadata": {},
   "outputs": [
    {
     "name": "stdout",
     "output_type": "stream",
     "text": [
      "域名IP整体更新频率: Counter({1: 5719, 2: 31, 3: 20, 4: 12})\n"
     ]
    }
   ],
   "source": [
    "gam_geo = []   # 存储原始ip_geo记录\n",
    "\n",
    "\n",
    "for i in gam_records:\n",
    "    gam_geo.append(i['ip_geo'])\n",
    "for i in gam_geo:\n",
    "    ip_change_count[len(i)] +=1\n",
    "print '域名IP整体更新频率:', ip_change_count"
   ]
  },
  {
   "cell_type": "code",
   "execution_count": 35,
   "metadata": {},
   "outputs": [
    {
     "name": "stdout",
     "output_type": "stream",
     "text": [
      "Counter({1: 5565, 2: 65, 0: 31, 3: 26, 4: 24, 9: 17, 10: 15, 5: 14, 19: 7, 6: 6, 7: 4, 39: 3, 52: 3, 11: 1, 36: 1})\n",
      "5889\n"
     ]
    }
   ],
   "source": [
    "for ip_geo in gam_geo:\n",
    "    ip_number = 0\n",
    "    for i in ip_geo:\n",
    "        ip_number +=len(i['ips'])\n",
    "        total_ips.append(i['ips'])\n",
    "    ip_number_count[ip_number] +=1\n",
    "#     if ip_number == 13:\n",
    "#         print ip_geo\n",
    "\n",
    "print ip_number_count\n",
    "print len(total_ips)"
   ]
  },
  {
   "cell_type": "code",
   "execution_count": 36,
   "metadata": {},
   "outputs": [],
   "source": [
    "def analyze_duration(gam_records):\n",
    "    for i in gam_records:\n",
    "        if len(i['ip_geo'])>1:\n",
    "            continue\n",
    "        ip_time = []    # 按照从小到大的顺序存储时间\n",
    "        record_time = datetime.strptime(i['record_time'],\"%Y-%m-%d %H:%M:%S\")\n",
    "        ip_time.append(record_time)\n",
    "        \n",
    "        for j in i['ip_geo']:\n",
    "            ip_time.append(datetime.strptime(j['insert_time'],\"%Y-%m-%d %H:%M:%S\"))\n",
    "                \n",
    "        for d in range(0,len(ip_time)-1):\n",
    "            gam_duration.append((ip_time[d+1]-ip_time[d]).seconds)\n",
    "#             print (ip_time[d+1]-ip_time[d]).seconds\n",
    "    \n",
    "from datetime import datetime\n",
    "analyze_duration(gam_duration_records)"
   ]
  },
  {
   "cell_type": "code",
   "execution_count": 37,
   "metadata": {
    "collapsed": true
   },
   "outputs": [],
   "source": [
    "% matplotlib inline\n",
    "import matplotlib.pyplot as plt\n",
    "import numpy as np"
   ]
  },
  {
   "cell_type": "markdown",
   "metadata": {},
   "source": [
    "### IP的分布情况"
   ]
  },
  {
   "cell_type": "code",
   "execution_count": 40,
   "metadata": {},
   "outputs": [
    {
     "data": {
      "text/plain": [
       "(array([ 484.,  680.,  857.,  692.,  647.,  729.,  475.,  212.,  442.,  393.]),\n",
       " array([ 12611. ,  12710.8,  12810.6,  12910.4,  13010.2,  13110. ,\n",
       "         13209.8,  13309.6,  13409.4,  13509.2,  13609. ]),\n",
       " <a list of 10 Patch objects>)"
      ]
     },
     "execution_count": 40,
     "metadata": {},
     "output_type": "execute_result"
    },
    {
     "data": {
      "image/png": "[encoded data removed]",
      "text/plain": [
       "<matplotlib.figure.Figure at 0xffb65f8>"
      ]
     },
     "metadata": {},
     "output_type": "display_data"
    }
   ],
   "source": [
    "\n",
    "\n",
    "plt.xlabel('IP numbers')\n",
    "plt.ylabel('Domain numbers')\n",
    "gam_duration = np.array(gam_duration)\n",
    "# plt.xticks(x,ip_counter.keys())\n",
    "plt.hist(gam_duration[gam_duration>0])"
   ]
  },
  {
   "cell_type": "code",
   "execution_count": null,
   "metadata": {
    "collapsed": true
   },
   "outputs": [],
   "source": []
  }
 ],
 "metadata": {
  "kernelspec": {
   "display_name": "Python 2",
   "language": "python",
   "name": "python2"
  },
  "language_info": {
   "codemirror_mode": {
    "name": "ipython",
    "version": 2
   },
   "file_extension": ".py",
   "mimetype": "text/x-python",
   "name": "python",
   "nbconvert_exporter": "python",
   "pygments_lexer": "ipython2",
   "version": "2.7.6"
  }
 },
 "nbformat": 4,
 "nbformat_minor": 2
}
