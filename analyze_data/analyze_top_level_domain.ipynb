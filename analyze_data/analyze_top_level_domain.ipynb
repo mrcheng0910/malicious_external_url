{
 "cells": [
  {
   "cell_type": "markdown",
   "metadata": {},
   "source": [
    "## 分析非法网站的顶级域名特征"
   ]
  },
  {
   "cell_type": "markdown",
   "metadata": {},
   "source": [
    "分析非法网站的顶级域名的数量分布情况"
   ]
  },
  {
   "cell_type": "code",
   "execution_count": 137,
   "metadata": {
    "collapsed": true
   },
   "outputs": [],
   "source": [
    "# encoding:utf-8\n",
    "from collections import Counter,defaultdict\n",
    "import tldextract\n",
    "from collections import Counter,OrderedDict"
   ]
  },
  {
   "cell_type": "code",
   "execution_count": 138,
   "metadata": {
    "collapsed": true
   },
   "outputs": [],
   "source": [
    "% matplotlib inline\n",
    "import matplotlib.pyplot as plt\n",
    "import numpy as np\n",
    "from numpy import  median\n",
    "from scipy.stats import mode"
   ]
  },
  {
   "cell_type": "code",
   "execution_count": 139,
   "metadata": {
    "collapsed": true
   },
   "outputs": [],
   "source": [
    "# 读取数据\n",
    "gam_sites_data = np.load('gam_dm_info.npy')\n",
    "por_sites_data = np.load('por_dm_info.npy')"
   ]
  },
  {
   "cell_type": "code",
   "execution_count": 146,
   "metadata": {
    "collapsed": true
   },
   "outputs": [],
   "source": [
    "def extract_links_tld(sites_data):\n",
    "    \"\"\"提取出链接和域名\n",
    "    \"\"\"\n",
    "    tld_domains = []\n",
    "    for site_data in sites_data:\n",
    "        if  site_data:\n",
    "            \n",
    "            # 打印某类型的顶级域名网站\n",
    "#             if tldextract.extract(site_data['domain']).suffix == 'gov.cn':\n",
    "#                 print site_data['domain']\n",
    "#                 print site_data['outer_domains']\n",
    "            \n",
    "            for url in site_data['outer_urls']:\n",
    "                ext = tldextract.extract(url)\n",
    "                if ext.suffix:\n",
    "#                     if ext.suffix=='racing':\n",
    "#                         print site_data['domain']\n",
    "                    tld_domains.append(ext.suffix)\n",
    "    return tld_domains"
   ]
  },
  {
   "cell_type": "code",
   "execution_count": 147,
   "metadata": {
    "collapsed": true
   },
   "outputs": [],
   "source": [
    "def manage_data(tld_domains,n=15):\n",
    "    \n",
    "    total_domain = len(tld_domains) # 域名总数\n",
    "    tld_domains = Counter(tld_domains)\n",
    "    tld_domains = OrderedDict(tld_domains.most_common(n))\n",
    "\n",
    "    x = np.arange(len(tld_domains))\n",
    "    x_ticks = tld_domains.keys()\n",
    "\n",
    "    y = tld_domains.values()\n",
    "    y = [i/float(total_domain) for i in y]\n",
    "    \n",
    "    return x, x_ticks,y"
   ]
  },
  {
   "cell_type": "code",
   "execution_count": 1,
   "metadata": {
    "scrolled": false
   },
   "outputs": [
    {
     "ename": "NameError",
     "evalue": "name 'extract_links_tld' is not defined",
     "output_type": "error",
     "traceback": [
      "\u001b[1;31m---------------------------------------------------------------------------\u001b[0m",
      "\u001b[1;31mNameError\u001b[0m                                 Traceback (most recent call last)",
      "\u001b[1;32m<ipython-input-1-0529abf6fdd5>\u001b[0m in \u001b[0;36m<module>\u001b[1;34m()\u001b[0m\n\u001b[0;32m      1\u001b[0m \u001b[1;33m\u001b[0m\u001b[0m\n\u001b[1;32m----> 2\u001b[1;33m \u001b[0mgam_tld_domains\u001b[0m \u001b[1;33m=\u001b[0m \u001b[0mextract_links_tld\u001b[0m\u001b[1;33m(\u001b[0m\u001b[0mgam_sites_data\u001b[0m\u001b[1;33m)\u001b[0m\u001b[1;33m\u001b[0m\u001b[0m\n\u001b[0m\u001b[0;32m      3\u001b[0m \u001b[0mgam_x\u001b[0m\u001b[1;33m,\u001b[0m\u001b[0mgam_x_ticks\u001b[0m\u001b[1;33m,\u001b[0m \u001b[0mgam_y\u001b[0m \u001b[1;33m=\u001b[0m \u001b[0mmanage_data\u001b[0m\u001b[1;33m(\u001b[0m\u001b[0mgam_tld_domains\u001b[0m\u001b[1;33m)\u001b[0m\u001b[1;33m\u001b[0m\u001b[0m\n\u001b[0;32m      4\u001b[0m \u001b[1;33m\u001b[0m\u001b[0m\n\u001b[0;32m      5\u001b[0m \u001b[0mpor_tld_domains\u001b[0m \u001b[1;33m=\u001b[0m \u001b[0mextract_links_tld\u001b[0m\u001b[1;33m(\u001b[0m\u001b[0mpor_sites_data\u001b[0m\u001b[1;33m)\u001b[0m\u001b[1;33m\u001b[0m\u001b[0m\n",
      "\u001b[1;31mNameError\u001b[0m: name 'extract_links_tld' is not defined"
     ]
    }
   ],
   "source": [
    "\n",
    "gam_tld_domains = extract_links_tld(gam_sites_data)\n",
    "gam_x,gam_x_ticks, gam_y = manage_data(gam_tld_domains)\n",
    "\n",
    "por_tld_domains = extract_links_tld(por_sites_data)\n",
    "por_x,por_x_ticks, por_y = manage_data(por_tld_domains)\n",
    "fig, (ax0, ax1) = plt.subplots(ncols=2, figsize=(12, 4))\n",
    "\n",
    "# 赌博网站\n",
    "ax0.set_xlabel('Top-level Domain')\n",
    "ax0.set_ylabel('The number of domains')\n",
    "ax0.set_xticklabels(gam_x_ticks,rotation=90);\n",
    "ax0.bar(gam_x,gam_y);\n",
    "# 设置x轴的显示内容\n",
    "start, end = ax0.get_xlim()\n",
    "ax0.xaxis.set_ticks(np.arange(start, end, 1))\n",
    "\n",
    "\n",
    "# 色情网站\n",
    "ax1.set_xlabel('Top-level Domain')\n",
    "ax1.set_ylabel('The nunber of domains')\n",
    "ax1.bar(por_x,por_y);\n",
    "ax1.set_xticklabels(por_x_ticks,rotation=90);\n",
    "start, end = ax1.get_xlim()\n",
    "ax1.xaxis.set_ticks(np.arange(start, end, 1));"
   ]
  },
  {
   "cell_type": "markdown",
   "metadata": {},
   "source": [
    "赌博和色情网站的顶级域名数量分布：\n",
    "* 两类非法域名，.com都是使用最多的顶级域名\n",
    "* cn域名虽然实名验证，但依然有，但管控方便。\n"
   ]
  },
  {
   "cell_type": "code",
   "execution_count": null,
   "metadata": {
    "collapsed": true
   },
   "outputs": [],
   "source": []
  }
 ],
 "metadata": {
  "kernelspec": {
   "display_name": "Python 2",
   "language": "python",
   "name": "python2"
  },
  "language_info": {
   "codemirror_mode": {
    "name": "ipython",
    "version": 2
   },
   "file_extension": ".py",
   "mimetype": "text/x-python",
   "name": "python",
   "nbconvert_exporter": "python",
   "pygments_lexer": "ipython2",
   "version": "2.7.6"
  }
 },
 "nbformat": 4,
 "nbformat_minor": 2
}
